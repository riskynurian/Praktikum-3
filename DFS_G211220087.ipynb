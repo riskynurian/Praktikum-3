{
  "nbformat": 4,
  "nbformat_minor": 0,
  "metadata": {
    "colab": {
      "provenance": []
    },
    "kernelspec": {
      "name": "python3",
      "display_name": "Python 3"
    },
    "language_info": {
      "name": "python"
    }
  },
  "cells": [
    {
      "cell_type": "code",
      "execution_count": 4,
      "metadata": {
        "colab": {
          "base_uri": "https://localhost:8080/"
        },
        "id": "o8I3BQBxKqBL",
        "outputId": "7e4e2c2e-46ac-441f-ce0b-1c85c1a5dadb"
      },
      "outputs": [
        {
          "output_type": "stream",
          "name": "stdout",
          "text": [
            "Masukan awal: A\n",
            "Masukan Akhir: D\n",
            "['A', 'B', 'C', 'D']\n"
          ]
        }
      ],
      "source": [
        "peta = {'A':set(['B']),\n",
        "        'B':set(['C', 'A']),\n",
        "        'C':set(['H', 'B', 'I', 'D']),\n",
        "        'D':set(['C', 'E', 'H', 'F']),\n",
        "        'E':set(['D']),\n",
        "        'F':set(['D', 'G']),\n",
        "        'G':set(['F', 'H']),\n",
        "        'H':set(['L', 'C', 'G', 'D']),\n",
        "        'I':set(['C', 'J', 'K']),\n",
        "        'J':set(['I']),\n",
        "        'K':set(['L', 'I']),\n",
        "        'L':set(['K', 'H'])}\n",
        "\n",
        "\n",
        "def dfs(graph, mulai, goal):\n",
        "  #mengecek semua node\n",
        "  explored = []\n",
        "  # mengecek semua jalur\n",
        "  stack = [[mulai]]\n",
        "\n",
        "  # kembali ke jalur apabila awal adalah tujuan\n",
        "  if mulai == goal:\n",
        "    return \"Awal adalah Tujuan\"\n",
        "\n",
        "  # perulangan sampai dengan semua jalur telah diperiksa\n",
        "  while stack:\n",
        "    # masukkan antrian paling belakang ke variabel jalur\n",
        "    jalur = stack.pop(-1)\n",
        "    # ambil node terakhir dari jalur\n",
        "    node = jalur[-1]\n",
        "    # jika node tidak sama dengan tujuan, maka cek apakah node tidak ada di explored\n",
        "    if node not in explored:\n",
        "      neighbours = graph[node] #Memasukan semua isi graph node kedalam neighbours\n",
        "      # buat jalur baru dan\n",
        "      # masukan ke dalam queue\n",
        "      for neighbour in neighbours: #Cek semua neighbour dari graph node\n",
        "          jalur_baru = list(jalur) #Memasukan isi dari varibel jalur ke variabel jalur baru\n",
        "          jalur_baru.append(neighbour) #update/tambah isi dari jalur baru dengan neighbour\n",
        "          stack.append(jalur_baru) #update/tambah isi dari stack dengan jalur baru\n",
        "          # cek neighbour apakah sama dengan tujuan, jika ya maka return jalur baru\n",
        "          if neighbour == goal:\n",
        "            return jalur_baru # kembali ke jalur baru apa bila neighbour benar\n",
        "\n",
        "      explored.append(node) #update/tambah isi dari explored dengan node\n",
        "\n",
        "  #dalam kasus ini tidak ada node yg diinputkan\n",
        "  return \"Mohon maaf node yang kalian pilih tidak ada\"\n",
        "awal = input(\"Masukan awal: \")\n",
        "tujuan = input(\"Masukan Akhir: \")\n",
        "\n",
        "print(dfs(peta, awal, tujuan))\n"
      ]
    }
  ]
}